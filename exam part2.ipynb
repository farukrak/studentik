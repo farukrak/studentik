{
 "cells": [
  {
   "cell_type": "markdown",
   "id": "24506390-363e-4ebb-908f-6de53f510340",
   "metadata": {},
   "source": [
    "# Exam - Coding part (worth 34 points)\n",
    "\n",
    "### Please upload to the Moodle page the notebook containing your solutions"
   ]
  },
  {
   "cell_type": "markdown",
   "id": "24d45ffb-f2d8-48ea-8ceb-801c12027041",
   "metadata": {},
   "source": [
    "**Q2. (9 points):** Write a function with the signature: `find_sum_subarray(A, k)`\n",
    "The function should find the longest contiguous subarray of a tuple of integers A that adds up to a given integer k.\n",
    "If no such subarray exists, then the function should return `None`.\n",
    "\n",
    "For instance, with:\n",
    "\n",
    "A = (1, 2, 3, -1, 4, 2, -2, 1, 1) and k = 6,\n",
    "\n",
    "the function should return (3, -1, 4, 2, -2)."
   ]
  },
  {
   "cell_type": "code",
   "execution_count": 109,
   "id": "1c957536",
   "metadata": {},
   "outputs": [],
   "source": [
    "def find_sum_subarray(A, k):\n",
    "    # your code goes here\n",
    "    n = len(A)\n",
    "    maxlen = 0\n",
    "    res = None\n",
    "\n",
    "    for i in range(n):\n",
    "        currentsum = 0\n",
    "        for j in range(i, n):\n",
    "            currentsum += A[j]\n",
    "            if currentsum == k:\n",
    "                if (j - i + 1) > maxlen:\n",
    "                    maxlen = j - i + 1\n",
    "                    res = A[i:j+1]\n",
    "    return res"
   ]
  },
  {
   "cell_type": "code",
   "execution_count": 110,
   "id": "e1c15b01-c5f0-4872-a950-5a8d3460c707",
   "metadata": {},
   "outputs": [
    {
     "name": "stdout",
     "output_type": "stream",
     "text": [
      "(3, -1, 4, 2, -2)\n"
     ]
    }
   ],
   "source": [
    "## Test your code by running this cell:\n",
    "assert find_sum_subarray((1,2,3,-1,4,2,-2,1,1), 6) == (3,-1,4,2,-2)\n",
    "assert find_sum_subarray((4, 5, -2, 1, 0, 5), 9) == (5,-2,1,0,5)\n",
    "assert find_sum_subarray((4, 5, -2, 1, 0, 4), 9) == (4, 5)\n",
    "assert find_sum_subarray((4, 4, 5), 16) == None\n",
    "\n",
    "print(find_sum_subarray(A, k))\n",
    "A = (1, 2, 3, -1, 4, 2, -2, 1, 1)\n",
    "k = 6"
   ]
  },
  {
   "cell_type": "markdown",
   "id": "4ec52e65-fa1a-432b-96c7-2ab61b756315",
   "metadata": {},
   "source": [
    "**Q2. (9 points):** Simulate a simple random walk on a square matrix.\n",
    "\n",
    "A random walk starts at the center of an n x n matrix. At each step, you can move North, South, East, or West with equal probability (hint: you could use random.choice). You may assume that n is an odd number (if not, just add 1 to n and use that number.\n",
    "\n",
    "The walk stops if it reaches the border of the matrix (i.e., the top row, bottom row, leftmost column, or rightmost column).\n",
    "\n",
    "Tasks\n",
    "- (5 points) Write a function random_walk(n) that simulates a random walk starting at the center of an n x n matrix. The function should return the number of steps taken until the walk reaches the matrix border.\n",
    "- (2 points) Simulate the walk 1000 times with n=21, saving the number of steps each walk takes.\n",
    "- (2 points) Use the plt.hist() function from matplotlib (import matplotlib.pyplot as plt) to visualize the distances.\n"
   ]
  },
  {
   "cell_type": "code",
   "execution_count": null,
   "id": "55d84f1c",
   "metadata": {},
   "outputs": [
    {
     "data": {
      "image/png": "[encoded data removed]",
      "text/plain": [
       "<Figure size 640x480 with 1 Axes>"
      ]
     },
     "metadata": {},
     "output_type": "display_data"
    }
   ],
   "source": [
    "import random\n",
    "from matplotlib import pyplot as plt\n",
    "\n",
    "def random_walk(n):\n",
    "    if n % 2 == 0:\n",
    "        n += 1\n",
    "        # your code goes here\n",
    "    x = y = n // 2\n",
    "    steps = 0\n",
    "    while 0 < x < n-1 and 0 < y < n-1:\n",
    "        direction = random.choice(['N', 'S', 'E', 'W']) #we are mobving north, south, east, west\n",
    "\n",
    "        if direction == 'N':\n",
    "            y -= 1\n",
    "        elif direction == 'S':\n",
    "            y += 1\n",
    "        elif direction == 'E':\n",
    "            x += 1\n",
    "        elif direction == 'W':\n",
    "            x -= 1       \n",
    "        steps += 1\n",
    "    return steps-1\n",
    "# perform the simulations and plot the histogram\n",
    "def simulation(n=21, ntimes=1000):\n",
    "    lens = [random_walk(n) for _ in range(ntimes)]\n",
    "    \n",
    "    plt.hist(lens, bins=30, edgecolor='pink')\n",
    "    plt.xlabel('num of steps')\n",
    "    plt.ylabel('freq')\n",
    "    plt.title(f'distr of step {ntimes} rndm walks (n={n})')\n",
    "    plt.grid(True)\n",
    "    plt.show()\n",
    "simulation()\n",
    "\n"
   ]
  },
  {
   "cell_type": "markdown",
   "id": "309e8992-a0fb-4731-851d-22a345b3c6fb",
   "metadata": {},
   "source": [
    "**Q3. (9 points):** Consider the following problem on the stack data type.\n",
    "Tasks\n",
    "- (5 points) Complete the missing code in the `Stack` class below\n",
    "- (4 points) Write a function called `reverse_stack(stack)` which takes a stack, and generates a new stack from it in which all the items are in reversed order (the item that was on the top of the original stack will now be on the bottom of the new stack, and vice versa)\n"
   ]
  },
  {
   "cell_type": "code",
   "execution_count": 112,
   "id": "7917d872-ac7c-43cf-ac60-74f89cb65009",
   "metadata": {},
   "outputs": [],
   "source": [
    "class StackNode:\n",
    "    def __init__(self, contents=None, next_node=None):\n",
    "        # set all the data fields you need here...\n",
    "        self.contents = contents\n",
    "        self.next_node = next_node    \n",
    "        \n",
    "    def __str__(self):\n",
    "        return f\"StackNode({self.contents})\"\n",
    "    def __eq__(self, other):\n",
    "        return self.contents == other.contents\n",
    "    \n",
    "class Stack:\n",
    "    def __init__(self):\n",
    "        self.top_node = None\n",
    "        # fill this out with something reasonable for an empty stack\n",
    "\n",
    "    def pop(self):\n",
    "        if not self.top_node:\n",
    "            return None\n",
    "        popped_node = self.top_node\n",
    "        self.top_node = self.top_node.next_node\n",
    "        popped_node.next_node = None\n",
    "        return popped_node.contents\n",
    "        \n",
    "        # return top_node but make sure that:\n",
    "        # - new top node is now the one that used to be the second one\n",
    "        # - before returning the top node, it's a good idea to set its next_node to None, since the relationships\n",
    "        # within the stack don't make sense outside of the stack\n",
    "    \n",
    "    def push(self, value):\n",
    "        self.top_node = StackNode(value, self.top_node) ## fill in the second argument\n",
    "\n",
    "    def __str__(self):\n",
    "        to_return = \"Stack(\"\n",
    "        if self.top_node:\n",
    "            to_return += str(self.top_node)\n",
    "            next_top = self.top_node.next_node\n",
    "            while next_top:\n",
    "                ## ... what should go here? Fill it in!\n",
    "                to_return += \", \" + str(next_top)\n",
    "                next_top = next_top.next_node\n",
    "        to_return += \")\"\n",
    "        return to_return\n",
    "\n",
    "def reverse_stack(stack):\n",
    "    reversed_stack = Stack()\n",
    "    while stack.top_node is not None:\n",
    "        value = stack.pop()\n",
    "        reversed_stack.push(value)\n",
    "    return reversed_stack\n",
    "        \n",
    "        \n",
    "    # pop the items one by one and push them onto the new stack. don't worry: it's OK to destructively read the nodes from the original stack\n",
    "    # since we didn't implement a peek() method."
   ]
  },
  {
   "cell_type": "code",
   "execution_count": 113,
   "id": "3119d4c5",
   "metadata": {},
   "outputs": [
    {
     "name": "stdout",
     "output_type": "stream",
     "text": [
      "Stack()\n",
      "Stack(StackNode(6))\n",
      "Stack(StackNode(15), StackNode(6))\n",
      "Stack(StackNode(hello), StackNode(15), StackNode(6))\n"
     ]
    }
   ],
   "source": [
    "## Test this using this cell:\n",
    "\n",
    "s = Stack()\n",
    "print(s)\n",
    "s.push(6)\n",
    "print(s)\n",
    "s.push(15)\n",
    "print(s)\n",
    "s.push(\"hello\")\n",
    "print(s)\n",
    "\n",
    "assert s.pop() == \"hello\"\n",
    "assert s.pop() == 15\n",
    "assert s.pop() == 6\n",
    "assert s.pop() == None\n",
    "\n",
    "s.push(5)\n",
    "s.push(15)\n",
    "s.push(\"hello\")\n",
    "\n",
    "rs = reverse_stack(s)\n",
    "assert rs.pop() == 5\n",
    "assert rs.pop() == 15\n",
    "assert rs.pop() == \"hello\"\n",
    "assert rs.pop() == None"
   ]
  },
  {
   "cell_type": "markdown",
   "id": "462d9126-22d6-4bed-a1f5-4b8d8e62c309",
   "metadata": {},
   "source": [
    "**Q4. (7 points):** You are given a dataset `visits.csv` containing website visit data with the following columns:\n",
    "\n",
    "- Timestamp\n",
    "- User_ID\n",
    "- Page\n",
    "- Duration\n",
    "- Clicks.\n",
    "\n",
    "Perform the following tasks using Pandas.\n",
    "\n",
    "- Read the dataset visits.csv using Pandas, making sure that the Timestamp column is parsed as datetime. To do this, call the read_csv function with the parse_dates argument set to the column (the value of this parameter can be a list of ints or a list of names corresponding to the columns). If in doubt, type help(pd.read_csv)\n",
    "- Fill any missing values in the Duration column with the median value of that column.\n",
    "- Filter the dataset to include only visits where Clicks ≥ 3, and use this filtered DataFrame for the next steps.\n",
    "- Create a new column: Clicks_per_minute by dividing Clicks by Duration (in minutes).\n",
    "- Calculate the average number of Clicks_per_minute per user by grouping by User_ID."
   ]
  },
  {
   "cell_type": "code",
   "execution_count": 2,
   "id": "e7b455cc-fe49-4934-a19f-ddad14d46f03",
   "metadata": {},
   "outputs": [
    {
     "data": {
      "text/html": [
       "<div>\n",
       "<style scoped>\n",
       "    .dataframe tbody tr th:only-of-type {\n",
       "        vertical-align: middle;\n",
       "    }\n",
       "\n",
       "    .dataframe tbody tr th {\n",
       "        vertical-align: top;\n",
       "    }\n",
       "\n",
       "    .dataframe thead th {\n",
       "        text-align: right;\n",
       "    }\n",
       "</style>\n",
       "<table border=\"1\" class=\"dataframe\">\n",
       "  <thead>\n",
       "    <tr style=\"text-align: right;\">\n",
       "      <th></th>\n",
       "      <th>Timestamp</th>\n",
       "      <th>User_ID</th>\n",
       "      <th>Page</th>\n",
       "      <th>Duration</th>\n",
       "      <th>Clicks</th>\n",
       "    </tr>\n",
       "  </thead>\n",
       "  <tbody>\n",
       "    <tr>\n",
       "      <th>0</th>\n",
       "      <td>2025-05-04 02:38:00</td>\n",
       "      <td>user_1</td>\n",
       "      <td>checkout</td>\n",
       "      <td>1.175355</td>\n",
       "      <td>1</td>\n",
       "    </tr>\n",
       "    <tr>\n",
       "      <th>1</th>\n",
       "      <td>2025-05-05 15:27:00</td>\n",
       "      <td>user_5</td>\n",
       "      <td>product</td>\n",
       "      <td>1.660322</td>\n",
       "      <td>5</td>\n",
       "    </tr>\n",
       "    <tr>\n",
       "      <th>2</th>\n",
       "      <td>2025-05-04 18:55:00</td>\n",
       "      <td>user_4</td>\n",
       "      <td>product</td>\n",
       "      <td>NaN</td>\n",
       "      <td>3</td>\n",
       "    </tr>\n",
       "    <tr>\n",
       "      <th>3</th>\n",
       "      <td>2025-05-05 05:13:00</td>\n",
       "      <td>user_4</td>\n",
       "      <td>checkout</td>\n",
       "      <td>2.820838</td>\n",
       "      <td>3</td>\n",
       "    </tr>\n",
       "    <tr>\n",
       "      <th>4</th>\n",
       "      <td>2025-05-07 13:38:00</td>\n",
       "      <td>user_2</td>\n",
       "      <td>product</td>\n",
       "      <td>7.747209</td>\n",
       "      <td>2</td>\n",
       "    </tr>\n",
       "  </tbody>\n",
       "</table>\n",
       "</div>"
      ],
      "text/plain": [
       "            Timestamp User_ID      Page  Duration  Clicks\n",
       "0 2025-05-04 02:38:00  user_1  checkout  1.175355       1\n",
       "1 2025-05-05 15:27:00  user_5   product  1.660322       5\n",
       "2 2025-05-04 18:55:00  user_4   product       NaN       3\n",
       "3 2025-05-05 05:13:00  user_4  checkout  2.820838       3\n",
       "4 2025-05-07 13:38:00  user_2   product  7.747209       2"
      ]
     },
     "execution_count": 2,
     "metadata": {},
     "output_type": "execute_result"
    }
   ],
   "source": [
    "import pandas as pd\n",
    "df = pd.read_csv(\"./visits.csv\", parse_dates = ['Timestamp'])\n",
    "# read the csv file and print its head...\n",
    "\n",
    "df.head()\n"
   ]
  },
  {
   "cell_type": "code",
   "execution_count": 3,
   "id": "bf374472-448d-4bda-9c87-67ee1247cc58",
   "metadata": {},
   "outputs": [
    {
     "name": "stdout",
     "output_type": "stream",
     "text": [
      "Timestamp    datetime64[ns]\n",
      "User_ID              object\n",
      "Page                 object\n",
      "Duration            float64\n",
      "Clicks                int64\n",
      "dtype: object\n"
     ]
    }
   ],
   "source": [
    "# check that Timestamp has type datetime of some sort\n",
    "print(df.dtypes)\n"
   ]
  },
  {
   "cell_type": "code",
   "execution_count": 4,
   "id": "82a81072-a7c0-46ee-88b9-01b75b1c3fc4",
   "metadata": {},
   "outputs": [
    {
     "name": "stdout",
     "output_type": "stream",
     "text": [
      "5.028944641161997\n"
     ]
    }
   ],
   "source": [
    "avg = df['Duration'].mean()\n",
    "print(avg)\n",
    "\n",
    "df = pd.read_csv('visits.csv', parse_dates=['Timestamp'])\n",
    "\n"
   ]
  },
  {
   "cell_type": "code",
   "execution_count": 5,
   "id": "b43af546-0f7c-4086-ad17-244690c92047",
   "metadata": {},
   "outputs": [
    {
     "data": {
      "text/html": [
       "<div>\n",
       "<style scoped>\n",
       "    .dataframe tbody tr th:only-of-type {\n",
       "        vertical-align: middle;\n",
       "    }\n",
       "\n",
       "    .dataframe tbody tr th {\n",
       "        vertical-align: top;\n",
       "    }\n",
       "\n",
       "    .dataframe thead th {\n",
       "        text-align: right;\n",
       "    }\n",
       "</style>\n",
       "<table border=\"1\" class=\"dataframe\">\n",
       "  <thead>\n",
       "    <tr style=\"text-align: right;\">\n",
       "      <th></th>\n",
       "      <th>Timestamp</th>\n",
       "      <th>User_ID</th>\n",
       "      <th>Page</th>\n",
       "      <th>Duration</th>\n",
       "      <th>Clicks</th>\n",
       "    </tr>\n",
       "  </thead>\n",
       "  <tbody>\n",
       "    <tr>\n",
       "      <th>0</th>\n",
       "      <td>2025-05-04 02:38:00</td>\n",
       "      <td>user_1</td>\n",
       "      <td>checkout</td>\n",
       "      <td>1.175355</td>\n",
       "      <td>1</td>\n",
       "    </tr>\n",
       "    <tr>\n",
       "      <th>1</th>\n",
       "      <td>2025-05-05 15:27:00</td>\n",
       "      <td>user_5</td>\n",
       "      <td>product</td>\n",
       "      <td>1.660322</td>\n",
       "      <td>5</td>\n",
       "    </tr>\n",
       "    <tr>\n",
       "      <th>2</th>\n",
       "      <td>2025-05-04 18:55:00</td>\n",
       "      <td>user_4</td>\n",
       "      <td>product</td>\n",
       "      <td>5.028945</td>\n",
       "      <td>3</td>\n",
       "    </tr>\n",
       "    <tr>\n",
       "      <th>3</th>\n",
       "      <td>2025-05-05 05:13:00</td>\n",
       "      <td>user_4</td>\n",
       "      <td>checkout</td>\n",
       "      <td>2.820838</td>\n",
       "      <td>3</td>\n",
       "    </tr>\n",
       "    <tr>\n",
       "      <th>4</th>\n",
       "      <td>2025-05-07 13:38:00</td>\n",
       "      <td>user_2</td>\n",
       "      <td>product</td>\n",
       "      <td>7.747209</td>\n",
       "      <td>2</td>\n",
       "    </tr>\n",
       "  </tbody>\n",
       "</table>\n",
       "</div>"
      ],
      "text/plain": [
       "            Timestamp User_ID      Page  Duration  Clicks\n",
       "0 2025-05-04 02:38:00  user_1  checkout  1.175355       1\n",
       "1 2025-05-05 15:27:00  user_5   product  1.660322       5\n",
       "2 2025-05-04 18:55:00  user_4   product  5.028945       3\n",
       "3 2025-05-05 05:13:00  user_4  checkout  2.820838       3\n",
       "4 2025-05-07 13:38:00  user_2   product  7.747209       2"
      ]
     },
     "execution_count": 5,
     "metadata": {},
     "output_type": "execute_result"
    }
   ],
   "source": [
    "df['Duration'] = df['Duration'].fillna(avg)\n",
    "df.head()"
   ]
  },
  {
   "cell_type": "code",
   "execution_count": 6,
   "id": "0c8dab81-56ec-408b-9f3d-4d415fd85372",
   "metadata": {},
   "outputs": [
    {
     "data": {
      "text/html": [
       "<div>\n",
       "<style scoped>\n",
       "    .dataframe tbody tr th:only-of-type {\n",
       "        vertical-align: middle;\n",
       "    }\n",
       "\n",
       "    .dataframe tbody tr th {\n",
       "        vertical-align: top;\n",
       "    }\n",
       "\n",
       "    .dataframe thead th {\n",
       "        text-align: right;\n",
       "    }\n",
       "</style>\n",
       "<table border=\"1\" class=\"dataframe\">\n",
       "  <thead>\n",
       "    <tr style=\"text-align: right;\">\n",
       "      <th></th>\n",
       "      <th>Timestamp</th>\n",
       "      <th>User_ID</th>\n",
       "      <th>Page</th>\n",
       "      <th>Duration</th>\n",
       "      <th>Clicks</th>\n",
       "    </tr>\n",
       "  </thead>\n",
       "  <tbody>\n",
       "    <tr>\n",
       "      <th>1</th>\n",
       "      <td>2025-05-05 15:27:00</td>\n",
       "      <td>user_5</td>\n",
       "      <td>product</td>\n",
       "      <td>1.660322</td>\n",
       "      <td>5</td>\n",
       "    </tr>\n",
       "    <tr>\n",
       "      <th>2</th>\n",
       "      <td>2025-05-04 18:55:00</td>\n",
       "      <td>user_4</td>\n",
       "      <td>product</td>\n",
       "      <td>5.028945</td>\n",
       "      <td>3</td>\n",
       "    </tr>\n",
       "    <tr>\n",
       "      <th>3</th>\n",
       "      <td>2025-05-05 05:13:00</td>\n",
       "      <td>user_4</td>\n",
       "      <td>checkout</td>\n",
       "      <td>2.820838</td>\n",
       "      <td>3</td>\n",
       "    </tr>\n",
       "    <tr>\n",
       "      <th>5</th>\n",
       "      <td>2025-05-06 16:35:00</td>\n",
       "      <td>user_4</td>\n",
       "      <td>checkout</td>\n",
       "      <td>6.906025</td>\n",
       "      <td>6</td>\n",
       "    </tr>\n",
       "    <tr>\n",
       "      <th>7</th>\n",
       "      <td>2025-05-04 01:37:00</td>\n",
       "      <td>user_4</td>\n",
       "      <td>home</td>\n",
       "      <td>1.489311</td>\n",
       "      <td>4</td>\n",
       "    </tr>\n",
       "  </tbody>\n",
       "</table>\n",
       "</div>"
      ],
      "text/plain": [
       "            Timestamp User_ID      Page  Duration  Clicks\n",
       "1 2025-05-05 15:27:00  user_5   product  1.660322       5\n",
       "2 2025-05-04 18:55:00  user_4   product  5.028945       3\n",
       "3 2025-05-05 05:13:00  user_4  checkout  2.820838       3\n",
       "5 2025-05-06 16:35:00  user_4  checkout  6.906025       6\n",
       "7 2025-05-04 01:37:00  user_4      home  1.489311       4"
      ]
     },
     "execution_count": 6,
     "metadata": {},
     "output_type": "execute_result"
    }
   ],
   "source": [
    "df_filter = df[df['Clicks'] >= 3].copy()\n",
    "df_filter.head()"
   ]
  },
  {
   "cell_type": "code",
   "execution_count": 7,
   "id": "302310d6",
   "metadata": {},
   "outputs": [
    {
     "data": {
      "text/html": [
       "<div>\n",
       "<style scoped>\n",
       "    .dataframe tbody tr th:only-of-type {\n",
       "        vertical-align: middle;\n",
       "    }\n",
       "\n",
       "    .dataframe tbody tr th {\n",
       "        vertical-align: top;\n",
       "    }\n",
       "\n",
       "    .dataframe thead th {\n",
       "        text-align: right;\n",
       "    }\n",
       "</style>\n",
       "<table border=\"1\" class=\"dataframe\">\n",
       "  <thead>\n",
       "    <tr style=\"text-align: right;\">\n",
       "      <th></th>\n",
       "      <th>Timestamp</th>\n",
       "      <th>User_ID</th>\n",
       "      <th>Page</th>\n",
       "      <th>Duration</th>\n",
       "      <th>Clicks</th>\n",
       "      <th>Clicks_per_minute</th>\n",
       "    </tr>\n",
       "  </thead>\n",
       "  <tbody>\n",
       "    <tr>\n",
       "      <th>1</th>\n",
       "      <td>2025-05-05 15:27:00</td>\n",
       "      <td>user_5</td>\n",
       "      <td>product</td>\n",
       "      <td>1.660322</td>\n",
       "      <td>5</td>\n",
       "      <td>3.011464</td>\n",
       "    </tr>\n",
       "    <tr>\n",
       "      <th>2</th>\n",
       "      <td>2025-05-04 18:55:00</td>\n",
       "      <td>user_4</td>\n",
       "      <td>product</td>\n",
       "      <td>5.028945</td>\n",
       "      <td>3</td>\n",
       "      <td>0.596547</td>\n",
       "    </tr>\n",
       "    <tr>\n",
       "      <th>3</th>\n",
       "      <td>2025-05-05 05:13:00</td>\n",
       "      <td>user_4</td>\n",
       "      <td>checkout</td>\n",
       "      <td>2.820838</td>\n",
       "      <td>3</td>\n",
       "      <td>1.063514</td>\n",
       "    </tr>\n",
       "    <tr>\n",
       "      <th>5</th>\n",
       "      <td>2025-05-06 16:35:00</td>\n",
       "      <td>user_4</td>\n",
       "      <td>checkout</td>\n",
       "      <td>6.906025</td>\n",
       "      <td>6</td>\n",
       "      <td>0.868807</td>\n",
       "    </tr>\n",
       "    <tr>\n",
       "      <th>7</th>\n",
       "      <td>2025-05-04 01:37:00</td>\n",
       "      <td>user_4</td>\n",
       "      <td>home</td>\n",
       "      <td>1.489311</td>\n",
       "      <td>4</td>\n",
       "      <td>2.685806</td>\n",
       "    </tr>\n",
       "  </tbody>\n",
       "</table>\n",
       "</div>"
      ],
      "text/plain": [
       "            Timestamp User_ID      Page  Duration  Clicks  Clicks_per_minute\n",
       "1 2025-05-05 15:27:00  user_5   product  1.660322       5           3.011464\n",
       "2 2025-05-04 18:55:00  user_4   product  5.028945       3           0.596547\n",
       "3 2025-05-05 05:13:00  user_4  checkout  2.820838       3           1.063514\n",
       "5 2025-05-06 16:35:00  user_4  checkout  6.906025       6           0.868807\n",
       "7 2025-05-04 01:37:00  user_4      home  1.489311       4           2.685806"
      ]
     },
     "execution_count": 7,
     "metadata": {},
     "output_type": "execute_result"
    }
   ],
   "source": [
    "df_filter['Clicks_per_minute'] = df_filter['Clicks'] / (df_filter['Duration'])\n",
    "df_filter.head()"
   ]
  },
  {
   "cell_type": "code",
   "execution_count": 8,
   "id": "bba8916f",
   "metadata": {},
   "outputs": [
    {
     "name": "stdout",
     "output_type": "stream",
     "text": [
      "  User_ID  Clicks_per_minute\n",
      "0  user_2           1.430019\n",
      "1  user_4           1.451956\n",
      "2  user_5           1.840709\n"
     ]
    }
   ],
   "source": [
    "rslt = df_filter.groupby('User_ID')['Clicks_per_minute'].mean().reset_index()\n",
    "print(rslt)"
   ]
  },
  {
   "cell_type": "code",
   "execution_count": null,
   "id": "716a693f",
   "metadata": {},
   "outputs": [],
   "source": []
  },
  {
   "cell_type": "code",
   "execution_count": null,
   "id": "bdf52bcb",
   "metadata": {},
   "outputs": [],
   "source": []
  }
 ],
 "metadata": {
  "kernelspec": {
   "display_name": "Python 3 (ipykernel)",
   "language": "python",
   "name": "python3"
  },
  "language_info": {
   "codemirror_mode": {
    "name": "ipython",
    "version": 3
   },
   "file_extension": ".py",
   "mimetype": "text/x-python",
   "name": "python",
   "nbconvert_exporter": "python",
   "pygments_lexer": "ipython3",
   "version": "3.10.9"
  }
 },
 "nbformat": 4,
 "nbformat_minor": 5
}
